{
  "nbformat": 4,
  "nbformat_minor": 0,
  "metadata": {
    "colab": {
      "name": "Manipulando Strings - Expressões Regulares.ipynb",
      "provenance": [],
      "collapsed_sections": []
    },
    "kernelspec": {
      "name": "python3",
      "display_name": "Python 3"
    },
    "language_info": {
      "name": "python"
    }
  },
  "cells": [
    {
      "cell_type": "markdown",
      "source": [
        "Python possui recursos nativos para manipulação de strings. No entanto, buscar e até mesmo substituir trechos de strings que possam atender a mais de um tipo de padrão pode ser uma tarefa árdua e pouco viável em termos práticos utilizando somente métodos built-in. Por isso, as expressões regulares, também conhecidas como RegEx, surgiram para facilitar esses processos.\n",
        "\n",
        "Dentro da documentação oficial de RegEx, em tradução livre: \"Os padrões de expressões regulares são compilados em uma série de bytecodes que são depois executados por um motor escrito em C\". A utilização de C justifica também maior eficiência na execução de buscas. Além disso, a documentação recomenda para casos em que a utilização de RegEx fique muito complexa, que sejam criadas funções específicas para tal finalidade, mesmo que isso possa implicar uma eficiência inferior.\n",
        "\n",
        "A elaboração deste notebook tem como base a documentação do módulo de expressões regulares, que está disponível [aqui](https://docs.python.org/3/howto/regex.html).\n",
        "\n",
        "Neste notebook serão utilizadas sentenças definidas em células e também um arquivo .txt com parte da [página do curso de Ciência de Dados do site do ICMC](https://icmc.usp.br/graduacao/ciencia-de-dados-bacharelado)."
      ],
      "metadata": {
        "id": "mxr647kMK6GN"
      }
    },
    {
      "cell_type": "code",
      "execution_count": null,
      "metadata": {
        "id": "oafwtb4OKvBE"
      },
      "outputs": [],
      "source": [
        "import pandas as pd\n",
        "import numpy as np\n",
        "import re"
      ]
    },
    {
      "cell_type": "markdown",
      "source": [
        "# Split"
      ],
      "metadata": {
        "id": "TvsAH5BT991s"
      }
    },
    {
      "cell_type": "markdown",
      "source": [
        "Dentre os métodos nativos, existia o split(). A biblioteca re também oferece recursos para efetuar o split de sentenças."
      ],
      "metadata": {
        "id": "Doz02s1SQwTy"
      }
    },
    {
      "cell_type": "code",
      "source": [
        "sentence = 'Quem nasce no Brasil é Br.'\n",
        "re.split(' ', sentence)"
      ],
      "metadata": {
        "colab": {
          "base_uri": "https://localhost:8080/"
        },
        "id": "G7UhEguuov7r",
        "outputId": "e6f95ccc-f1c6-4076-b692-8d57f848327b"
      },
      "execution_count": null,
      "outputs": [
        {
          "output_type": "execute_result",
          "data": {
            "text/plain": [
              "['Quem', 'nasce', 'no', 'Brasil', 'é', 'Br.']"
            ]
          },
          "metadata": {},
          "execution_count": 2
        }
      ]
    },
    {
      "cell_type": "code",
      "source": [
        "re.split('Br', sentence)"
      ],
      "metadata": {
        "colab": {
          "base_uri": "https://localhost:8080/"
        },
        "id": "YyNOKyGXpL8k",
        "outputId": "e3ab9151-42e2-4df1-cd49-f22b50d2c988"
      },
      "execution_count": null,
      "outputs": [
        {
          "output_type": "execute_result",
          "data": {
            "text/plain": [
              "['Quem nasce no ', 'asil é ', '.']"
            ]
          },
          "metadata": {},
          "execution_count": 3
        }
      ]
    },
    {
      "cell_type": "markdown",
      "source": [
        "As expressões regulares conseguem fazer essas separações de tokens mesmo que a regra se aplique a sequências de caracteres entendidas como palavras."
      ],
      "metadata": {
        "id": "YSlMbTPvpQ7t"
      }
    },
    {
      "cell_type": "markdown",
      "source": [
        "# Buscas"
      ],
      "metadata": {
        "id": "CDHyo3Fe-Avp"
      }
    },
    {
      "cell_type": "markdown",
      "source": [
        "É possível também realizar buscas dentro de uma string (aplicável a arquivos .txt, células de dataframes ou arrays, entre outros). O local da primeira ocorrência é informado."
      ],
      "metadata": {
        "id": "t_K9JBg-JrRr"
      }
    },
    {
      "cell_type": "code",
      "source": [
        "re.search('Brasil', sentence)"
      ],
      "metadata": {
        "colab": {
          "base_uri": "https://localhost:8080/"
        },
        "id": "fPEeq146r7Z5",
        "outputId": "4215cb17-df04-4676-f238-3892cd6de232"
      },
      "execution_count": null,
      "outputs": [
        {
          "output_type": "execute_result",
          "data": {
            "text/plain": [
              "<re.Match object; span=(14, 20), match='Brasil'>"
            ]
          },
          "metadata": {},
          "execution_count": 4
        }
      ]
    },
    {
      "cell_type": "code",
      "source": [
        "re.search('as', sentence)"
      ],
      "metadata": {
        "colab": {
          "base_uri": "https://localhost:8080/"
        },
        "id": "S55yMjBPsjCd",
        "outputId": "5f900ccd-58b8-48e8-86a6-72d2c082474b"
      },
      "execution_count": null,
      "outputs": [
        {
          "output_type": "execute_result",
          "data": {
            "text/plain": [
              "<re.Match object; span=(6, 8), match='as'>"
            ]
          },
          "metadata": {},
          "execution_count": 5
        }
      ]
    },
    {
      "cell_type": "markdown",
      "source": [
        "Para saber o número de ocorrências, basta utilizar outro recurso, o 'findall'."
      ],
      "metadata": {
        "id": "HHumFVF9spHV"
      }
    },
    {
      "cell_type": "code",
      "source": [
        "re.findall('Brasil', sentence)"
      ],
      "metadata": {
        "colab": {
          "base_uri": "https://localhost:8080/"
        },
        "id": "XtIexy2ss72w",
        "outputId": "6a7eea1c-fde6-4250-c219-26ab6532ba06"
      },
      "execution_count": null,
      "outputs": [
        {
          "output_type": "execute_result",
          "data": {
            "text/plain": [
              "['Brasil']"
            ]
          },
          "metadata": {},
          "execution_count": 6
        }
      ]
    },
    {
      "cell_type": "code",
      "source": [
        "re.findall('as', sentence)"
      ],
      "metadata": {
        "colab": {
          "base_uri": "https://localhost:8080/"
        },
        "id": "ZPfbAC8jtAUj",
        "outputId": "452fe305-42ee-4936-adca-0737b181224d"
      },
      "execution_count": null,
      "outputs": [
        {
          "output_type": "execute_result",
          "data": {
            "text/plain": [
              "['as', 'as']"
            ]
          },
          "metadata": {},
          "execution_count": 7
        }
      ]
    },
    {
      "cell_type": "markdown",
      "source": [
        "No entanto, para encontrar o local de ocorrência de todos esses elementos, é necessário iterar dentro da string de interesse com finditer() ou utilizar um loop for com um iterator."
      ],
      "metadata": {
        "id": "-JRFLlzotl75"
      }
    },
    {
      "cell_type": "code",
      "source": [
        "for i in re.finditer('as', sentence):\n",
        "  print(i)"
      ],
      "metadata": {
        "colab": {
          "base_uri": "https://localhost:8080/"
        },
        "id": "uoj5PSr3tzLg",
        "outputId": "8a5bdfcb-0dc6-4037-ddf5-d845af06900e"
      },
      "execution_count": null,
      "outputs": [
        {
          "output_type": "stream",
          "name": "stdout",
          "text": [
            "<re.Match object; span=(6, 8), match='as'>\n",
            "<re.Match object; span=(16, 18), match='as'>\n"
          ]
        }
      ]
    },
    {
      "cell_type": "code",
      "source": [
        "iterator = re.finditer('as', sentence)\n",
        "list_occurrence = []\n",
        "for i in iterator:\n",
        "  print(i.span())\n",
        "  list_occurrence.append(i)"
      ],
      "metadata": {
        "colab": {
          "base_uri": "https://localhost:8080/"
        },
        "id": "_gYID9pduUmo",
        "outputId": "ba790f01-7833-4d45-c16d-f00af7fdb77e"
      },
      "execution_count": null,
      "outputs": [
        {
          "output_type": "stream",
          "name": "stdout",
          "text": [
            "(6, 8)\n",
            "(16, 18)\n"
          ]
        }
      ]
    },
    {
      "cell_type": "code",
      "source": [
        "print('Lista completa de ocorrências: {}'.format(list_occurrence))\n",
        "print('O tipo do primeiro elemento {} é: {}'.format(list_occurrence[0],type(list_occurrence[0])))\n",
        "print('O tipo do primeiro span {} é: {}'.format(list_occurrence[0].span(),type(list_occurrence[0].span())))\n",
        "print('O tipo do primeiro elemento {} do primeiro span é: {}'.format(list_occurrence[0].span()[0],type(list_occurrence[0].span()[0])))"
      ],
      "metadata": {
        "colab": {
          "base_uri": "https://localhost:8080/"
        },
        "id": "tqbV636HvE-0",
        "outputId": "24a9685b-6196-4a9d-cdac-0213d04e4d2a"
      },
      "execution_count": null,
      "outputs": [
        {
          "output_type": "stream",
          "name": "stdout",
          "text": [
            "Lista completa de ocorrências: [<re.Match object; span=(6, 8), match='as'>, <re.Match object; span=(16, 18), match='as'>]\n",
            "O tipo do primeiro elemento <re.Match object; span=(6, 8), match='as'> é: <class 're.Match'>\n",
            "O tipo do primeiro span (6, 8) é: <class 'tuple'>\n",
            "O tipo do primeiro elemento 6 do primeiro span é: <class 'int'>\n"
          ]
        }
      ]
    },
    {
      "cell_type": "markdown",
      "source": [
        "# Meta-caracteres"
      ],
      "metadata": {
        "id": "XSDfgnsZ-EMl"
      }
    },
    {
      "cell_type": "markdown",
      "source": [
        "Dentro do contexto de RegEx, existem caracteres especiais que são denominados meta-caracteres. Tais caracteres podem realizar operações específicas de busca e substituição.\n",
        "\n",
        "Eles incluem:\n",
        "\n",
        ". ^ $ * + ? { } [ ] \\ | ( )\n",
        "\n",
        "Quando os meta-caracteres são representados entre colchetes [] eles deixam de realizar operações e passam a representar possíveis correspondências no texto. Por exemplo, [*] buscará por caracteres * que estejam dentro do texto.\n",
        "\n",
        "A seguir serão exemplificados os meta-caracteres."
      ],
      "metadata": {
        "id": "xhkUzyFk72GD"
      }
    },
    {
      "cell_type": "markdown",
      "source": [
        "## Ponto (.)"
      ],
      "metadata": {
        "id": "MRiutRa3HB0c"
      }
    },
    {
      "cell_type": "code",
      "source": [
        "string_meta = 'lista de metacaracteres . ^ $ * + ? { } [ ] \\ | ( )'\n",
        "# O . é capaz de dar \"match\" com qualquer caractere, exceto caractere de nova linha. Além disso, o [.] mostra que o ponto final deixa de ser um operador entre colchetes\n",
        "print(re.search('.',string_meta))\n",
        "print(re.search('[.]',string_meta))"
      ],
      "metadata": {
        "colab": {
          "base_uri": "https://localhost:8080/"
        },
        "id": "TIRcpXle8ngc",
        "outputId": "2bcd03a0-e022-4a25-f050-0826c3f6097a"
      },
      "execution_count": null,
      "outputs": [
        {
          "output_type": "stream",
          "name": "stdout",
          "text": [
            "<re.Match object; span=(0, 1), match='l'>\n",
            "<re.Match object; span=(24, 25), match='.'>\n"
          ]
        }
      ]
    },
    {
      "cell_type": "markdown",
      "source": [
        "## Circunflexo (^)"
      ],
      "metadata": {
        "id": "hkDVCLr8HOt-"
      }
    },
    {
      "cell_type": "code",
      "source": [
        "string_meta = 'lista de metacaracteres . ^ $ * + ? { } [ ] \\ | ( )'\n",
        "\n",
        "# O ^ significa \"exceto\" quando no início de um colchete. Por exemplo, na linha a seguir o resultado retornado será o primeiro que não seja a letra l minúscula\n",
        "print(re.search('[^l]',string_meta))\n",
        "\n",
        "# No caso a seguir, o caractere representará o próprio acento. Os outros caracteres não necessariamente ficam na mesma ordem apresentada nos colchetes.\n",
        "string_meta = 'lista ^ 2de metacaracteres . ^ $ * + ? { } [ ] \\ | ( )'\n",
        "print(re.findall('[2^]',string_meta))"
      ],
      "metadata": {
        "colab": {
          "base_uri": "https://localhost:8080/"
        },
        "id": "M_lJ-m1_-b3r",
        "outputId": "49e992aa-f4f9-4e92-b110-5e90e200aadd"
      },
      "execution_count": null,
      "outputs": [
        {
          "output_type": "stream",
          "name": "stdout",
          "text": [
            "<re.Match object; span=(1, 2), match='i'>\n",
            "['^', '2', '^']\n"
          ]
        }
      ]
    },
    {
      "cell_type": "markdown",
      "source": [
        "## Cifrão ($)"
      ],
      "metadata": {
        "id": "XT1ucr-KHkGA"
      }
    },
    {
      "cell_type": "code",
      "source": [
        "string_meta = 'lista de metacaracteres . ^ $ * + ? { } [ ] \\ | ( )'\n",
        "\n",
        "# O $ significa que a string em análise deve ter como padrão final a expressão que antecede $. Será vazio, pois a string não termina com 'a'\n",
        "print(re.search('a$',string_meta))\n",
        "print(re.search('[$]',string_meta))"
      ],
      "metadata": {
        "colab": {
          "base_uri": "https://localhost:8080/"
        },
        "id": "cqrNq4sF_9-7",
        "outputId": "55fd10df-6067-4a6c-9bf9-74fba140f2dc"
      },
      "execution_count": null,
      "outputs": [
        {
          "output_type": "stream",
          "name": "stdout",
          "text": [
            "None\n",
            "<re.Match object; span=(28, 29), match='$'>\n"
          ]
        }
      ]
    },
    {
      "cell_type": "markdown",
      "source": [
        "## Asterisco (*)"
      ],
      "metadata": {
        "id": "TZz1SfGcHp7O"
      }
    },
    {
      "cell_type": "markdown",
      "source": [
        "Na string, a partir desta seção, foram incluídos risos (haha) com diferentes números de caracteres, a fim de refletir algo comumente encontrado em textos de redes sociais como o Twitter. O pré-processamento desses textos é um dos desafios de quem trabalha com processamento de linguagem natural, em particular com textos gerados por usuários (user-generated content, UGC), que são mais informais."
      ],
      "metadata": {
        "id": "DMxpTANNGpIr"
      }
    },
    {
      "cell_type": "code",
      "source": [
        "string_meta = 'haha haahaa haaaahaaaa h lista de metacaracteres . ^ $ * + ? { } [ ] \\ | ( )'\n",
        "\n",
        "# O * pode capturar zero ou mais ocorrências de uma dada expressão\n",
        "print(re.findall('ha*',string_meta))\n",
        "print(re.search('[*]',string_meta))"
      ],
      "metadata": {
        "colab": {
          "base_uri": "https://localhost:8080/"
        },
        "id": "mE9jj0FnEg3j",
        "outputId": "6f07c2a5-a5d9-4321-c4c2-1c6b03d2cdb5"
      },
      "execution_count": null,
      "outputs": [
        {
          "output_type": "stream",
          "name": "stdout",
          "text": [
            "['ha', 'ha', 'haa', 'haa', 'haaaa', 'haaaa', 'h']\n",
            "<re.Match object; span=(55, 56), match='*'>\n"
          ]
        }
      ]
    },
    {
      "cell_type": "markdown",
      "source": [
        "## Mais (+)"
      ],
      "metadata": {
        "id": "7o9OzV8wH8Ya"
      }
    },
    {
      "cell_type": "code",
      "source": [
        "string_meta = 'haha haahaa haaaahaaaa h lista de metacaracteres . ^ $ * + ? { } [ ] \\ | ( )'\n",
        "\n",
        "# O + significa que a parte de interesse da expressão é repetida no mínimo uma vez\n",
        "print(re.findall('ha+',string_meta))\n",
        "print(re.search('[+]',string_meta))"
      ],
      "metadata": {
        "colab": {
          "base_uri": "https://localhost:8080/"
        },
        "id": "FZm1Bbj2Fwh6",
        "outputId": "81f9ab62-f6e5-4f0f-995c-0b8524fac329"
      },
      "execution_count": null,
      "outputs": [
        {
          "output_type": "stream",
          "name": "stdout",
          "text": [
            "['ha', 'ha', 'haa', 'haa', 'haaaa', 'haaaa']\n",
            "<re.Match object; span=(57, 58), match='+'>\n"
          ]
        }
      ]
    },
    {
      "cell_type": "markdown",
      "source": [
        "## Interrogação (?)"
      ],
      "metadata": {
        "id": "3oOgfylrICLU"
      }
    },
    {
      "cell_type": "code",
      "source": [
        "string_meta = 'haha haahaa haaaahaaaa h lista de metacaracteres . ^ $ * + ? { } [ ] \\ | ( )'\n",
        "\n",
        "# O ? significa que a parte de interesse da expressão não ocorre ou ocorre no máximo uma vez\n",
        "print(re.findall('ha?',string_meta))\n",
        "print(re.search('[?]',string_meta))"
      ],
      "metadata": {
        "colab": {
          "base_uri": "https://localhost:8080/"
        },
        "id": "bLZ01m5wGO4r",
        "outputId": "739ca51d-97ae-48e1-ebcf-6b8d1c0b1ce5"
      },
      "execution_count": null,
      "outputs": [
        {
          "output_type": "stream",
          "name": "stdout",
          "text": [
            "['ha', 'ha', 'ha', 'ha', 'ha', 'ha', 'h']\n",
            "<re.Match object; span=(59, 60), match='?'>\n"
          ]
        }
      ]
    },
    {
      "cell_type": "markdown",
      "source": [
        "## Chaves ({ })"
      ],
      "metadata": {
        "id": "txmcOu6lIHx0"
      }
    },
    {
      "cell_type": "code",
      "source": [
        "string_meta = 'haha haahaa hhaaaahaaaa h lista de metacaracteres . ^ $ * + ? { } [ ] \\ | ( )'\n",
        "\n",
        "# O {} significa que a parte de interesse da expressão deve ocorrer em um número pré-definido de vezes. O h deve ser seguido por 'a' ou 'aa'\n",
        "print(re.findall('ha{1,2}',string_meta))\n",
        "print(re.findall('[{}]',string_meta)) # search somente retorna a primeira ocorrência, por isso o findall"
      ],
      "metadata": {
        "colab": {
          "base_uri": "https://localhost:8080/"
        },
        "id": "XeGKa3xPGqG2",
        "outputId": "c5587159-e444-4906-be60-25deb1dd7477"
      },
      "execution_count": null,
      "outputs": [
        {
          "output_type": "stream",
          "name": "stdout",
          "text": [
            "['ha', 'ha', 'haa', 'haa', 'haa', 'haa']\n",
            "['{', '}']\n"
          ]
        }
      ]
    },
    {
      "cell_type": "markdown",
      "source": [
        "##Colchetes ([ ])"
      ],
      "metadata": {
        "id": "GQIE6NDmI_BS"
      }
    },
    {
      "cell_type": "code",
      "source": [
        "string_meta = 'haha haahaa hhaaaahaaaa h lista de metacaracteres . ^ $ * + ? { } [ ] \\ | ( )'\n",
        "\n",
        "# O [] faz com que o que esteja dentro dele deixe de ser um metacaractere. \n",
        "print(re.findall('[{}]',string_meta))\n",
        "# O [] também é responsável por aplicar certas operações somente aos elementos dentro dele. No caso, um dos elementos dentro do colchete deve ocorrer pelo menos uma vez.\n",
        "print(re.findall('[ha]+',string_meta))\n",
        "# Neste caso, o h deve sempre ter depois dele pelo menos uma letra a\n",
        "print(re.findall('h[a]+',string_meta))"
      ],
      "metadata": {
        "colab": {
          "base_uri": "https://localhost:8080/"
        },
        "id": "fjAmcmXDJC07",
        "outputId": "7f67e3a8-a362-4138-bfa7-70937adbb38a"
      },
      "execution_count": null,
      "outputs": [
        {
          "output_type": "stream",
          "name": "stdout",
          "text": [
            "['{', '}']\n",
            "['haha', 'haahaa', 'hhaaaahaaaa', 'h', 'a', 'a', 'a', 'a']\n",
            "['ha', 'ha', 'haa', 'haa', 'haaaa', 'haaaa']\n"
          ]
        }
      ]
    },
    {
      "cell_type": "markdown",
      "source": [
        "## Barra Vertical (|)"
      ],
      "metadata": {
        "id": "fgQQ4pQJPW37"
      }
    },
    {
      "cell_type": "code",
      "source": [
        "string_meta = 'haha haahaa hhaaaahaaaa h lista de metacaracteres . ^ $ * + ? { } [ ] \\ | ( )'\n",
        "\n",
        "# O | significa \"ou\" dentro da expressão regular\n",
        "print(re.findall('de|lista',string_meta))\n",
        "print(re.findall('[|]',string_meta))"
      ],
      "metadata": {
        "colab": {
          "base_uri": "https://localhost:8080/"
        },
        "id": "9GY228SBPgPI",
        "outputId": "802522cc-f3b5-4274-895d-bf647e1476a7"
      },
      "execution_count": null,
      "outputs": [
        {
          "output_type": "stream",
          "name": "stdout",
          "text": [
            "['lista', 'de']\n",
            "['|']\n"
          ]
        }
      ]
    },
    {
      "cell_type": "markdown",
      "source": [
        "## Parênteses ( ( ) )"
      ],
      "metadata": {
        "id": "whogrLdoPms0"
      }
    },
    {
      "cell_type": "code",
      "source": [
        "string_meta = 'haha haahaa hhaaaahaaaa h lista de metacaracteres . ^ $ * + ? { } [ ] \\ | ( ) 1'\n",
        "\n",
        "# () são utilizados para encontrar sequências de caracteres idênticas às da expressão\n",
        "print(re.findall('(lista)',string_meta))\n",
        "print(re.findall('lista',string_meta))\n",
        "\n",
        "# Embora as duas expressões anteriores tenham os mesmos resultados, () são utilizados em outros contextos, que serão exemplificados depois do metacaractere '\\'\n",
        "print(re.findall('[()]',string_meta))"
      ],
      "metadata": {
        "colab": {
          "base_uri": "https://localhost:8080/"
        },
        "id": "8A-B0xdcPrVC",
        "outputId": "17f24afe-cd9d-4433-de2e-4f2bd324da3d"
      },
      "execution_count": null,
      "outputs": [
        {
          "output_type": "stream",
          "name": "stdout",
          "text": [
            "['lista']\n",
            "['lista']\n",
            "['(', ')']\n"
          ]
        }
      ]
    },
    {
      "cell_type": "markdown",
      "source": [
        "## Barra Inverta \"Backslash\" ( \\ )"
      ],
      "metadata": {
        "id": "fUfHMGQsLSV9"
      }
    },
    {
      "cell_type": "code",
      "source": [
        "string_meta = 'haha haahaa hhaaaahaaaa h lista de metacaracteres . ^ $ * + ? { } [ ] \\ | ( )'\n",
        "# O \\ faz com que o que esteja imediatamente depois dele deixe de ser um metacaractere.\n",
        "print(re.search('\\*',string_meta))"
      ],
      "metadata": {
        "colab": {
          "base_uri": "https://localhost:8080/"
        },
        "id": "2AOrOYHlLgLk",
        "outputId": "3dad32cd-0b56-434e-ae0e-ab9136f385b2"
      },
      "execution_count": null,
      "outputs": [
        {
          "output_type": "stream",
          "name": "stdout",
          "text": [
            "<re.Match object; span=(56, 57), match='*'>\n"
          ]
        }
      ]
    },
    {
      "cell_type": "markdown",
      "source": [
        "O ' \\ ' também permite a utilização de sequências especiais"
      ],
      "metadata": {
        "id": "VviEUr2SMyGd"
      }
    },
    {
      "cell_type": "code",
      "source": [
        "string_meta = 'haha haahaa hhaaaahaaaa h lista de metacaracteres . ^ $ * + ? { } [ ] \\ | ( ) 0 1 2 3 \\n \\t'\n",
        "\n",
        "# \\d - qualquer caractere que seja numérico\n",
        "print(re.findall('\\d',string_meta))\n",
        "# equivalente usando colchetes\n",
        "print(re.findall('[0-9]',string_meta))"
      ],
      "metadata": {
        "colab": {
          "base_uri": "https://localhost:8080/"
        },
        "id": "SNjHrInXNDaT",
        "outputId": "a6b62b9b-407c-410a-b54b-458825c7de8d"
      },
      "execution_count": null,
      "outputs": [
        {
          "output_type": "stream",
          "name": "stdout",
          "text": [
            "['0', '1', '2', '3']\n",
            "['0', '1', '2', '3']\n"
          ]
        }
      ]
    },
    {
      "cell_type": "code",
      "source": [
        "# \\D - qualquer caractere que NÃO seja numérico\n",
        "print(re.findall('\\D',string_meta))\n",
        "# equivalente usando colchetes\n",
        "print(re.findall('[^0-9]',string_meta))"
      ],
      "metadata": {
        "colab": {
          "base_uri": "https://localhost:8080/"
        },
        "id": "3Ih3ZNTaNpsD",
        "outputId": "3c4e1cca-6afe-4e92-c381-27afc4c9f510"
      },
      "execution_count": null,
      "outputs": [
        {
          "output_type": "stream",
          "name": "stdout",
          "text": [
            "['h', 'a', 'h', 'a', ' ', 'h', 'a', 'a', 'h', 'a', 'a', ' ', 'h', 'h', 'a', 'a', 'a', 'a', 'h', 'a', 'a', 'a', 'a', ' ', 'h', ' ', 'l', 'i', 's', 't', 'a', ' ', 'd', 'e', ' ', 'm', 'e', 't', 'a', 'c', 'a', 'r', 'a', 'c', 't', 'e', 'r', 'e', 's', ' ', '.', ' ', '^', ' ', '$', ' ', '*', ' ', '+', ' ', '?', ' ', '{', ' ', '}', ' ', '[', ' ', ']', ' ', '\\\\', ' ', '|', ' ', '(', ' ', ')', ' ', ' ', ' ', ' ', ' ', '\\n', ' ', '\\t']\n",
            "['h', 'a', 'h', 'a', ' ', 'h', 'a', 'a', 'h', 'a', 'a', ' ', 'h', 'h', 'a', 'a', 'a', 'a', 'h', 'a', 'a', 'a', 'a', ' ', 'h', ' ', 'l', 'i', 's', 't', 'a', ' ', 'd', 'e', ' ', 'm', 'e', 't', 'a', 'c', 'a', 'r', 'a', 'c', 't', 'e', 'r', 'e', 's', ' ', '.', ' ', '^', ' ', '$', ' ', '*', ' ', '+', ' ', '?', ' ', '{', ' ', '}', ' ', '[', ' ', ']', ' ', '\\\\', ' ', '|', ' ', '(', ' ', ')', ' ', ' ', ' ', ' ', ' ', '\\n', ' ', '\\t']\n"
          ]
        }
      ]
    },
    {
      "cell_type": "code",
      "source": [
        "# \\s qualquer caractere que seja um espaço (incluindo novas linhas, por exemplo)\n",
        "print(re.findall('\\s',string_meta))\n",
        "# equivalente usando colchetes\n",
        "print(re.findall('[ \\t\\n\\r\\f\\v]',string_meta))"
      ],
      "metadata": {
        "colab": {
          "base_uri": "https://localhost:8080/"
        },
        "id": "b7-yktwdN9U6",
        "outputId": "779f79ea-4470-4b70-be3b-2b77e7a8e917"
      },
      "execution_count": null,
      "outputs": [
        {
          "output_type": "stream",
          "name": "stdout",
          "text": [
            "[' ', ' ', ' ', ' ', ' ', ' ', ' ', ' ', ' ', ' ', ' ', ' ', ' ', ' ', ' ', ' ', ' ', ' ', ' ', ' ', ' ', ' ', ' ', ' ', ' ', '\\n', ' ', '\\t']\n",
            "[' ', ' ', ' ', ' ', ' ', ' ', ' ', ' ', ' ', ' ', ' ', ' ', ' ', ' ', ' ', ' ', ' ', ' ', ' ', ' ', ' ', ' ', ' ', ' ', ' ', '\\n', ' ', '\\t']\n"
          ]
        }
      ]
    },
    {
      "cell_type": "code",
      "source": [
        "# \\S qualquer caractere que NÃO SEJA um espaço (incluindo novas linhas, por exemplo)\n",
        "print(re.findall('\\S',string_meta))\n",
        "# equivalente usando colchetes\n",
        "print(re.findall('[^ \\t\\n\\r\\f\\v]',string_meta))"
      ],
      "metadata": {
        "colab": {
          "base_uri": "https://localhost:8080/"
        },
        "id": "uvxHEf7POTrK",
        "outputId": "ddbf6068-0bc2-4cb0-be1d-0b2a4c5152e5"
      },
      "execution_count": null,
      "outputs": [
        {
          "output_type": "stream",
          "name": "stdout",
          "text": [
            "['h', 'a', 'h', 'a', 'h', 'a', 'a', 'h', 'a', 'a', 'h', 'h', 'a', 'a', 'a', 'a', 'h', 'a', 'a', 'a', 'a', 'h', 'l', 'i', 's', 't', 'a', 'd', 'e', 'm', 'e', 't', 'a', 'c', 'a', 'r', 'a', 'c', 't', 'e', 'r', 'e', 's', '.', '^', '$', '*', '+', '?', '{', '}', '[', ']', '\\\\', '|', '(', ')', '0', '1', '2', '3']\n",
            "['h', 'a', 'h', 'a', 'h', 'a', 'a', 'h', 'a', 'a', 'h', 'h', 'a', 'a', 'a', 'a', 'h', 'a', 'a', 'a', 'a', 'h', 'l', 'i', 's', 't', 'a', 'd', 'e', 'm', 'e', 't', 'a', 'c', 'a', 'r', 'a', 'c', 't', 'e', 'r', 'e', 's', '.', '^', '$', '*', '+', '?', '{', '}', '[', ']', '\\\\', '|', '(', ')', '0', '1', '2', '3']\n"
          ]
        }
      ]
    },
    {
      "cell_type": "code",
      "source": [
        "# \\w qualquer caractere que seja alfanumérico\n",
        "print(re.findall('\\w',string_meta))\n",
        "# equivalente usando colchetes\n",
        "print(re.findall('[a-zA-Z0-9]',string_meta))"
      ],
      "metadata": {
        "colab": {
          "base_uri": "https://localhost:8080/"
        },
        "id": "9scopy99OfLq",
        "outputId": "81cfc2ee-c3c9-42d2-f5c6-9d103d3f395b"
      },
      "execution_count": null,
      "outputs": [
        {
          "output_type": "stream",
          "name": "stdout",
          "text": [
            "['h', 'a', 'h', 'a', 'h', 'a', 'a', 'h', 'a', 'a', 'h', 'h', 'a', 'a', 'a', 'a', 'h', 'a', 'a', 'a', 'a', 'h', 'l', 'i', 's', 't', 'a', 'd', 'e', 'm', 'e', 't', 'a', 'c', 'a', 'r', 'a', 'c', 't', 'e', 'r', 'e', 's', '0', '1', '2', '3']\n",
            "['h', 'a', 'h', 'a', 'h', 'a', 'a', 'h', 'a', 'a', 'h', 'h', 'a', 'a', 'a', 'a', 'h', 'a', 'a', 'a', 'a', 'h', 'l', 'i', 's', 't', 'a', 'd', 'e', 'm', 'e', 't', 'a', 'c', 'a', 'r', 'a', 'c', 't', 'e', 'r', 'e', 's', '0', '1', '2', '3']\n"
          ]
        }
      ]
    },
    {
      "cell_type": "code",
      "source": [
        "# \\W qualquer caractere que NÃO SEJA alfanumérico\n",
        "print(re.findall('\\W',string_meta))\n",
        "# equivalente usando colchetes\n",
        "print(re.findall('[^a-zA-Z0-9]',string_meta))"
      ],
      "metadata": {
        "colab": {
          "base_uri": "https://localhost:8080/"
        },
        "id": "dnsGRpdqOr4y",
        "outputId": "af868151-aa0e-4180-ccca-601d71335b6e"
      },
      "execution_count": null,
      "outputs": [
        {
          "output_type": "stream",
          "name": "stdout",
          "text": [
            "[' ', ' ', ' ', ' ', ' ', ' ', ' ', '.', ' ', '^', ' ', '$', ' ', '*', ' ', '+', ' ', '?', ' ', '{', ' ', '}', ' ', '[', ' ', ']', ' ', '\\\\', ' ', '|', ' ', '(', ' ', ')', ' ', ' ', ' ', ' ', ' ', '\\n', ' ', '\\t']\n",
            "[' ', ' ', ' ', ' ', ' ', ' ', ' ', '.', ' ', '^', ' ', '$', ' ', '*', ' ', '+', ' ', '?', ' ', '{', ' ', '}', ' ', '[', ' ', ']', ' ', '\\\\', ' ', '|', ' ', '(', ' ', ')', ' ', ' ', ' ', ' ', ' ', '\\n', ' ', '\\t']\n"
          ]
        }
      ]
    },
    {
      "cell_type": "code",
      "source": [
        "# \\A verifica a expressão somente no início da string\n",
        "print(re.search('\\Ah',string_meta))\n",
        "print(re.search('\\Ab',string_meta))"
      ],
      "metadata": {
        "colab": {
          "base_uri": "https://localhost:8080/"
        },
        "id": "f53Y3wJWRWm8",
        "outputId": "f29c24f4-79a9-42aa-a51c-c496602af9dc"
      },
      "execution_count": null,
      "outputs": [
        {
          "output_type": "stream",
          "name": "stdout",
          "text": [
            "<re.Match object; span=(0, 1), match='h'>\n",
            "None\n"
          ]
        }
      ]
    },
    {
      "cell_type": "code",
      "source": [
        "# \\b delimita a fronteira da palavra\n",
        "\n",
        "string_meta = 'haha haahaa hhaaaahaaaa h lista de metacaracteres . ^ $ * + ? { } [ ] \\ | ( )'\n",
        "print(re.search(r'\\blista\\b',string_meta))\n",
        "print(re.search(r'\\blist\\b',string_meta))"
      ],
      "metadata": {
        "colab": {
          "base_uri": "https://localhost:8080/"
        },
        "id": "igsh4qD_SDYu",
        "outputId": "1e9bad6e-3c56-4b39-b53b-209e3da73914"
      },
      "execution_count": null,
      "outputs": [
        {
          "output_type": "stream",
          "name": "stdout",
          "text": [
            "<re.Match object; span=(26, 31), match='lista'>\n",
            "None\n"
          ]
        }
      ]
    },
    {
      "cell_type": "code",
      "source": [
        "# Podem ser também combinados\n",
        "print(re.findall('[\\W 1 2]',string_meta))"
      ],
      "metadata": {
        "colab": {
          "base_uri": "https://localhost:8080/"
        },
        "id": "SnK9wJ_qO9tK",
        "outputId": "3dd6498e-401c-4c73-cd99-6c5d7dc808a0"
      },
      "execution_count": null,
      "outputs": [
        {
          "output_type": "stream",
          "name": "stdout",
          "text": [
            "[' ', ' ', ' ', ' ', ' ', ' ', ' ', '.', ' ', '^', ' ', '$', ' ', '*', ' ', '+', ' ', '?', ' ', '{', ' ', '}', ' ', '[', ' ', ']', ' ', '\\\\', ' ', '|', ' ', '(', ' ', ')']\n"
          ]
        }
      ]
    },
    {
      "cell_type": "markdown",
      "source": [
        "# Seleção de trechos (non-capturing)"
      ],
      "metadata": {
        "id": "SUH6BW-pW4Ue"
      }
    },
    {
      "cell_type": "markdown",
      "source": [
        "Lookahead e lookbehind são utilizados quando é necessário verificar se a condição é verdadeira depois ou antes do trecho de input da string de interesse, respectivamente."
      ],
      "metadata": {
        "id": "vnHXT0-vesr0"
      }
    },
    {
      "cell_type": "markdown",
      "source": [
        "Com a expressão lookahead positiva o que está imediatamente anterior só é exibido caso a expressão que esteja dentro dos parênteses e depois do (?=...) seja válida.\n",
        "\n",
        "Com o lookahead negativo (?!...), só haverá um retorno não vazio caso a expressão que está depois de ?! seja falsa."
      ],
      "metadata": {
        "id": "xdWxdJC9i6-a"
      }
    },
    {
      "cell_type": "code",
      "source": [
        "#string_non = 'lista de metacaracteres . ^ $ * + ? { } [ ] \\ | ()'\n",
        "string_non = 'abcdefghij'\n",
        "\n",
        "# Lookahead positivo (?=...)\n",
        "print('Lookahead positivo')\n",
        "print(re.search(r'j(?=[a-z])',string_non))\n",
        "print(re.search(r'i(?=[a-z])',string_non))\n",
        "print(re.search(r'i(?=[a-z]{2})',string_non))\n",
        "\n",
        "print('\\n')\n",
        "print('Lookahead negativo')\n",
        "# Lookahead negativo (?!...).\n",
        "print(re.search(r'j(?![a-z])',string_non))\n",
        "print(re.search(r'i(?![a-z])',string_non))\n",
        "print(re.search(r'i(?![a-z]{2})',string_non))"
      ],
      "metadata": {
        "id": "WTqD74jiXNYZ",
        "colab": {
          "base_uri": "https://localhost:8080/"
        },
        "outputId": "ef246e88-4842-4958-8df3-2b740e16744f"
      },
      "execution_count": null,
      "outputs": [
        {
          "output_type": "stream",
          "name": "stdout",
          "text": [
            "Lookahead positivo\n",
            "None\n",
            "<re.Match object; span=(8, 9), match='i'>\n",
            "None\n",
            "\n",
            "\n",
            "Lookahead negativo\n",
            "<re.Match object; span=(9, 10), match='j'>\n",
            "None\n",
            "<re.Match object; span=(8, 9), match='i'>\n"
          ]
        }
      ]
    },
    {
      "cell_type": "markdown",
      "source": [
        "O trecho códigos de lookbehind tem como base [este link](https://www.geeksforgeeks.org/python-regex-lookbehind/). Essa expressão verifica o que está depois (à direita na string) do que foi incluído dentro dos parênteses."
      ],
      "metadata": {
        "id": "QGYx_2xdmEH8"
      }
    },
    {
      "cell_type": "code",
      "source": [
        "string_non = 'ciencia de dados'\n",
        "\n",
        "# Lookbehind (?<=...)\n",
        "print('Lookbehind')\n",
        "print(re.findall(r'(?<=e)[a-z]*',string_non))\n",
        "print(re.findall(r'(?<=a)[a-z]*',string_non))\n",
        "print(re.findall(r'(?<=i)[a-z]*',string_non))\n",
        "print(re.findall(r'(?<=d)[a-z]*',string_non))"
      ],
      "metadata": {
        "colab": {
          "base_uri": "https://localhost:8080/"
        },
        "id": "ojRIS1FMjKz-",
        "outputId": "be3ea35e-ec81-4985-b7ee-ca597f14edd4"
      },
      "execution_count": null,
      "outputs": [
        {
          "output_type": "stream",
          "name": "stdout",
          "text": [
            "Lookbehind\n",
            "['ncia', '']\n",
            "['', 'dos']\n",
            "['encia']\n",
            "['e', 'ados']\n"
          ]
        }
      ]
    },
    {
      "cell_type": "code",
      "source": [
        "print(re.search(r'i(?=[a-z])',string_non))"
      ],
      "metadata": {
        "colab": {
          "base_uri": "https://localhost:8080/"
        },
        "id": "SOmy9VGhipJM",
        "outputId": "f07b4b9a-9895-4394-b9cd-202a6d68a9e8"
      },
      "execution_count": null,
      "outputs": [
        {
          "output_type": "stream",
          "name": "stdout",
          "text": [
            "<re.Match object; span=(1, 2), match='i'>\n"
          ]
        }
      ]
    },
    {
      "cell_type": "markdown",
      "source": [
        "# Grupos Nomeados"
      ],
      "metadata": {
        "id": "XFDBY7QPgd3Y"
      }
    },
    {
      "cell_type": "markdown",
      "source": [
        "Em alguns cenários, é conveniente extrair expressões que sejam relacionadas a nomes, podendo ser em formato de dicionários. Para obter um grupo nomeado, deve-se iniciar a expressão por (?P< nomedogrupo > regra para obtenção dos grupos)."
      ],
      "metadata": {
        "id": "wZrkoO2pLJ31"
      }
    },
    {
      "cell_type": "code",
      "source": [
        "string = 'Primeironome Últimosobrenome'\n",
        "\n",
        "for item in re.finditer('(?P<Nome>[\\w]*)[\\s](?P<Sobrenome>[\\w]*)',string):\n",
        "  print(item.groupdict())"
      ],
      "metadata": {
        "colab": {
          "base_uri": "https://localhost:8080/"
        },
        "id": "CpXm-ICnMprl",
        "outputId": "8020f20b-2fae-44fe-c788-f470f2e11e7c"
      },
      "execution_count": null,
      "outputs": [
        {
          "output_type": "stream",
          "name": "stdout",
          "text": [
            "{'Nome': 'Primeironome', 'Sobrenome': 'Últimosobrenome'}\n"
          ]
        }
      ]
    },
    {
      "cell_type": "markdown",
      "source": [
        "# Substituição"
      ],
      "metadata": {
        "id": "6BTXGWLfexa3"
      }
    },
    {
      "cell_type": "markdown",
      "source": [
        "Um arquivo .txt que extraiu parte do HTML do site do ICMC será utilizado nesta seção para que seja possível aplicar as expressões que foram apresentadas acima."
      ],
      "metadata": {
        "id": "ktwK6Yo2e0WQ"
      }
    },
    {
      "cell_type": "code",
      "source": [
        "f = open(\"site_icmc_html.txt\", \"r\")\n",
        "aux_file = f.read()\n",
        "f.close()\n",
        "print(aux_file)"
      ],
      "metadata": {
        "id": "OSV6uImd-ZGq",
        "colab": {
          "base_uri": "https://localhost:8080/"
        },
        "outputId": "312c1189-7db5-465a-b557-5e024891f882"
      },
      "execution_count": null,
      "outputs": [
        {
          "output_type": "stream",
          "name": "stdout",
          "text": [
            "<html xmlns=\"http://www.w3.org/1999/xhtml\" xml:lang=\"pt-br\" lang=\"pt-br\" >\n",
            "    <head>\n",
            "    ================================================== -->\n",
            "    <body>\n",
            "<p style=\"text-align: justify;\"><strong>VAGAS:</strong> 20 (14 na FUVEST + 6 no SiSU/ENEM)<br /><strong>DURA&Ccedil;&Atilde;O:</strong> 4 anos (integral)<br /><strong>COMO SE INSCREVER NA FUVEST:</strong> &nbsp;carreira 791 - curso 54</p>\n",
            "<p><span style=\"background-color: initial;\"></span></p>\n",
            "<p>&nbsp;</p>\n",
            "<p style=\"text-align: justify;\"><strong>SOBRE O CURSO</strong></p>\n",
            "<p style=\"text-align: justify;\">O Bacharelado em Ci&ecirc;ncia de Dados visa formar um profissional capaz de &ldquo;pensar com dados&rdquo;. Diante da enorme quantidade de dados dispon&iacute;veis atualmente, provenientes das mais variadas fontes (como web, dispositivos m&oacute;veis, literaturas especializadas e sensores de todo tipo &ndash; como sat&eacute;lites, radares e at&eacute; telesc&oacute;pios), essa capacidade &eacute; essencial para a produ&ccedil;&atilde;o de conhecimento novo, &uacute;til e relevante para apoio &agrave; decis&atilde;o e resolu&ccedil;&atilde;o de problemas complexos da sociedade.</p>\n",
            "<p>&nbsp;</p>\n",
            "<p style=\"text-align: justify;\"><strong>O QUE VOC&Ecirc; VAI ESTUDAR?</strong></p>\n",
            "<p style=\"text-align: justify;\">O curso &eacute; multidisciplinar e se encontra na jun&ccedil;&atilde;o das &aacute;reas de Computa&ccedil;&atilde;o, Estat&iacute;stica e Matem&aacute;tica. Essa gradua&ccedil;&atilde;o visa fornecer conhecimento conceitual s&oacute;lido para a ci&ecirc;ncia de dados e habilidades pr&aacute;ticas para a resolu&ccedil;&atilde;o de problemas reais das mais variadas &aacute;reas, desenvolvendo tamb&eacute;m habilidades de comunica&ccedil;&atilde;o e o comportamento cidad&atilde;o e &eacute;tico, t&atilde;o relevantes atualmente.</p>\n",
            "<p style=\"text-align: justify;\">O aluno aprender&aacute; algoritmos, linguagens de programa&ccedil;&atilde;o, estruturas de dados e organiza&ccedil;&atilde;o e arquitetura usuais dos computadores modernos. Tamb&eacute;m ser&aacute; formado para lidar com bancos de dados, intelig&ecirc;ncia artificial e suas v&aacute;rias t&eacute;cnicas e aplica&ccedil;&otilde;es (aprendizado de m&aacute;quina, minera&ccedil;&atilde;o de dados e textos e processamento de linguagem natural), visualiza&ccedil;&atilde;o de dados e informa&ccedil;&atilde;o, conceitos matem&aacute;ticos e estat&iacute;sticos de base, modelagem estat&iacute;stica de problemas, an&aacute;lise estat&iacute;stica de dados e infer&ecirc;ncia e t&eacute;cnicas de otimiza&ccedil;&atilde;o. Al&eacute;m disso, outras op&ccedil;&otilde;es lhe ser&atilde;o apresentadas durante o curso, como as cadeias de disciplinas optativas nas mais diversas frentes, que incluem programa&ccedil;&atilde;o avan&ccedil;ada, seguran&ccedil;a de informa&ccedil;&atilde;o, web, matem&aacute;tica avan&ccedil;ada, otimiza&ccedil;&atilde;o, empreendedorismo, minera&ccedil;&atilde;o de dados e aplica&ccedil;&otilde;es.</p>\n",
            "<p style=\"text-align: justify;\">No &uacute;ltimo semestre do curso, o aluno dever&aacute; realizar trabalho de conclus&atilde;o de curso, que pode ser em empresa (caracterizando est&aacute;gio supervisionado) ou em universidade ou centro de pesquisa (caracterizando projeto de gradua&ccedil;&atilde;o), sendo que essas modalidades podem ocorrer tamb&eacute;m no exterior (em per&iacute;odo de interc&acirc;mbio). J&aacute; para alunos que optarem por empreender, ser&aacute; poss&iacute;vel realizar est&aacute;gio em sua pr&oacute;pria empresa.</p>\n",
            "<p style=\"text-align: justify;\">As estrat&eacute;gias de ensino e aprendizagem s&atilde;o variadas. H&aacute; aulas no estilo tradicional, com aulas te&oacute;ricas e te&oacute;rico-pr&aacute;ticas, e tamb&eacute;m laborat&oacute;rios pr&aacute;ticos. Por&eacute;m, boa parte do curso est&aacute; focada no uso de metodologias ativas de ensino, em que o aluno assume maior protagonismo no processo, com estrat&eacute;gias baseadas na resolu&ccedil;&atilde;o de problemas (<em>problem-based learning</em>) e aulas invertidas (<em>flipped classroom</em>).</p>\n",
            "<p>&nbsp;</p>\n",
            "<p style=\"text-align: justify;\"><strong>O QUE VOC&Ecirc; VAI FAZER?</strong></p>\n",
            "<p style=\"text-align: justify;\">H&aacute; diversas frentes poss&iacute;veis de atua&ccedil;&atilde;o. Na vertente acad&ecirc;mica, o aluno poder&aacute; continuar sua forma&ccedil;&atilde;o na p&oacute;s-gradua&ccedil;&atilde;o (em programas de mestrado e doutorado), que busca avan&ccedil;ar a fronteira do conhecimento para os m&eacute;todos e aplica&ccedil;&otilde;es de Ci&ecirc;ncia de Dados. Nas empresas e institutos especializados, a demanda por cientistas de dados &eacute; enorme: o aluno poder&aacute; atuar em empresas de com&eacute;rcio eletr&ocirc;nico (por exemplo, buscando entender o comportamento de segmentos de mercado, personalizar suas propagandas e melhorar suas vendas), em bancos e financeiras (para analisar perfis de clientes e servi&ccedil;os mais apropriados para lhes oferecer, melhores estrat&eacute;gias de investimento e poss&iacute;veis fraudadores do sistema), na &aacute;rea da sa&uacute;de (pela coleta e an&aacute;lise de dados de doen&ccedil;as, sintomas e tratamentos poss&iacute;veis, assim como acompanhamento e previs&atilde;o do comportamento de epidemias), na &aacute;rea jur&iacute;dica (pela an&aacute;lise autom&aacute;tica de leis e jurisprud&ecirc;ncias para montar argumenta&ccedil;&otilde;es jur&iacute;dicas para casos novos), em quest&otilde;es demogr&aacute;ficas e de a&ccedil;&otilde;es pol&iacute;tico-sociais (pelo levantamento e an&aacute;lise de dados populacionais e identifica&ccedil;&atilde;o de demandas e poss&iacute;veis encaminhamentos e solu&ccedil;&otilde;es) e at&eacute; mesmo na astronomia (processando os dados espaciais obtidos para identificar planetas habit&aacute;veis e outros corpos celestes de interesse), entre incont&aacute;veis outras (como meteorologia, planejamento urbano e transporte p&uacute;blico, quest&otilde;es ambientais e de energia, educa&ccedil;&atilde;o, etc.).</p>\n",
            "<ul>\n",
            "    </body>\n",
            "</html>\n"
          ]
        }
      ]
    },
    {
      "cell_type": "markdown",
      "source": [
        "Ao abrir o arquivo, já é possível notar que os nomes de entidades de caracteres incluídos no código HTML do site. Para que o texto fique mais condizente com a língua natural, serão feitas algumas substituições. É válido ressaltar que ao utilizar re.sub() a string original é alterada. Caso queira que sejam retornadas a string modificada e a string original, deve-se optar por .subn().\n"
      ],
      "metadata": {
        "id": "NSdp62Ea_HM0"
      }
    },
    {
      "cell_type": "code",
      "source": [
        "aux_file = re.sub('\\&ccedil;','ç',aux_file)\n",
        "aux_file = re.sub('\\&Ccedil;','Ç',aux_file)\n",
        "\n",
        "aux_file = re.sub('\\&aacute;','á',aux_file)\n",
        "aux_file = re.sub('\\&eacute;','é',aux_file)\n",
        "aux_file = re.sub('\\&iacute;','í',aux_file)\n",
        "aux_file = re.sub('\\&oacute;','ó',aux_file)\n",
        "aux_file = re.sub('\\&uacute;','ú',aux_file)\n",
        "\n",
        "aux_file = re.sub('\\&Aacute;','Á',aux_file)\n",
        "aux_file = re.sub('\\&Eacute;','É',aux_file)\n",
        "aux_file = re.sub('\\&Iacute;','Í',aux_file)\n",
        "aux_file = re.sub('\\&Oacute;','Ó',aux_file)\n",
        "aux_file = re.sub('\\&Uacute;','Ú',aux_file)\n",
        "\n",
        "aux_file = re.sub('\\&agrave;','à',aux_file)\n",
        "aux_file = re.sub('\\&Agrave;','À',aux_file)\n",
        "\n",
        "aux_file = re.sub('\\&atilde;','ã',aux_file)\n",
        "aux_file = re.sub('\\&otilde;','õ',aux_file)\n",
        "\n",
        "aux_file = re.sub('\\&Atilde;','Ã',aux_file)\n",
        "aux_file = re.sub('\\&Otilde;','Õ',aux_file)\n",
        "\n",
        "aux_file = re.sub('\\&acirc;','â',aux_file)\n",
        "aux_file = re.sub('\\&ecirc;','ê',aux_file)\n",
        "aux_file = re.sub('\\&ocirc;','ô',aux_file)\n",
        "\n",
        "aux_file = re.sub('\\&Acirc;','Â',aux_file)\n",
        "aux_file = re.sub('\\&Ecirc;','Ê',aux_file)\n",
        "aux_file = re.sub('\\&Ocirc;','Ô',aux_file)\n",
        "\n",
        "aux_file = re.sub('\\&ldquo;','\"',aux_file)\n",
        "aux_file = re.sub('\\&rdquo;','\"',aux_file)\n",
        "aux_file = re.sub('\\&ndash;','-',aux_file)\n",
        "aux_file = re.sub('\\&nbsp;',' ',aux_file)\n",
        "\n",
        "print(aux_file)"
      ],
      "metadata": {
        "id": "9F247PgA_Byo",
        "colab": {
          "base_uri": "https://localhost:8080/"
        },
        "outputId": "66c7ada5-974d-4a6a-a892-a8e3d4fb4435"
      },
      "execution_count": null,
      "outputs": [
        {
          "output_type": "stream",
          "name": "stdout",
          "text": [
            "<html xmlns=\"http://www.w3.org/1999/xhtml\" xml:lang=\"pt-br\" lang=\"pt-br\" >\n",
            "    <head>\n",
            "    ================================================== -->\n",
            "    <body>\n",
            "<p style=\"text-align: justify;\"><strong>VAGAS:</strong> 20 (14 na FUVEST + 6 no SiSU/ENEM)<br /><strong>DURAÇÃO:</strong> 4 anos (integral)<br /><strong>COMO SE INSCREVER NA FUVEST:</strong>  carreira 791 - curso 54</p>\n",
            "<p><span style=\"background-color: initial;\"></span></p>\n",
            "<p> </p>\n",
            "<p style=\"text-align: justify;\"><strong>SOBRE O CURSO</strong></p>\n",
            "<p style=\"text-align: justify;\">O Bacharelado em Ciência de Dados visa formar um profissional capaz de \"pensar com dados\". Diante da enorme quantidade de dados disponíveis atualmente, provenientes das mais variadas fontes (como web, dispositivos móveis, literaturas especializadas e sensores de todo tipo - como satélites, radares e até telescópios), essa capacidade é essencial para a produção de conhecimento novo, útil e relevante para apoio à decisão e resolução de problemas complexos da sociedade.</p>\n",
            "<p> </p>\n",
            "<p style=\"text-align: justify;\"><strong>O QUE VOCÊ VAI ESTUDAR?</strong></p>\n",
            "<p style=\"text-align: justify;\">O curso é multidisciplinar e se encontra na junção das áreas de Computação, Estatística e Matemática. Essa graduação visa fornecer conhecimento conceitual sólido para a ciência de dados e habilidades práticas para a resolução de problemas reais das mais variadas áreas, desenvolvendo também habilidades de comunicação e o comportamento cidadão e ético, tão relevantes atualmente.</p>\n",
            "<p style=\"text-align: justify;\">O aluno aprenderá algoritmos, linguagens de programação, estruturas de dados e organização e arquitetura usuais dos computadores modernos. Também será formado para lidar com bancos de dados, inteligência artificial e suas várias técnicas e aplicações (aprendizado de máquina, mineração de dados e textos e processamento de linguagem natural), visualização de dados e informação, conceitos matemáticos e estatísticos de base, modelagem estatística de problemas, análise estatística de dados e inferência e técnicas de otimização. Além disso, outras opções lhe serão apresentadas durante o curso, como as cadeias de disciplinas optativas nas mais diversas frentes, que incluem programação avançada, segurança de informação, web, matemática avançada, otimização, empreendedorismo, mineração de dados e aplicações.</p>\n",
            "<p style=\"text-align: justify;\">No último semestre do curso, o aluno deverá realizar trabalho de conclusão de curso, que pode ser em empresa (caracterizando estágio supervisionado) ou em universidade ou centro de pesquisa (caracterizando projeto de graduação), sendo que essas modalidades podem ocorrer também no exterior (em período de intercâmbio). Já para alunos que optarem por empreender, será possível realizar estágio em sua própria empresa.</p>\n",
            "<p style=\"text-align: justify;\">As estratégias de ensino e aprendizagem são variadas. Há aulas no estilo tradicional, com aulas teóricas e teórico-práticas, e também laboratórios práticos. Porém, boa parte do curso está focada no uso de metodologias ativas de ensino, em que o aluno assume maior protagonismo no processo, com estratégias baseadas na resolução de problemas (<em>problem-based learning</em>) e aulas invertidas (<em>flipped classroom</em>).</p>\n",
            "<p> </p>\n",
            "<p style=\"text-align: justify;\"><strong>O QUE VOCÊ VAI FAZER?</strong></p>\n",
            "<p style=\"text-align: justify;\">Há diversas frentes possíveis de atuação. Na vertente acadêmica, o aluno poderá continuar sua formação na pós-graduação (em programas de mestrado e doutorado), que busca avançar a fronteira do conhecimento para os métodos e aplicações de Ciência de Dados. Nas empresas e institutos especializados, a demanda por cientistas de dados é enorme: o aluno poderá atuar em empresas de comércio eletrônico (por exemplo, buscando entender o comportamento de segmentos de mercado, personalizar suas propagandas e melhorar suas vendas), em bancos e financeiras (para analisar perfis de clientes e serviços mais apropriados para lhes oferecer, melhores estratégias de investimento e possíveis fraudadores do sistema), na área da saúde (pela coleta e análise de dados de doenças, sintomas e tratamentos possíveis, assim como acompanhamento e previsão do comportamento de epidemias), na área jurídica (pela análise automática de leis e jurisprudências para montar argumentações jurídicas para casos novos), em questões demográficas e de ações político-sociais (pelo levantamento e análise de dados populacionais e identificação de demandas e possíveis encaminhamentos e soluções) e até mesmo na astronomia (processando os dados espaciais obtidos para identificar planetas habitáveis e outros corpos celestes de interesse), entre incontáveis outras (como meteorologia, planejamento urbano e transporte público, questões ambientais e de energia, educação, etc.).</p>\n",
            "<ul>\n",
            "    </body>\n",
            "</html>\n"
          ]
        }
      ]
    },
    {
      "cell_type": "markdown",
      "source": [
        "As tags de HTML estão prejudicando a leitura do texto. Por isso, será feita a remoção delas. Existem bibliotecas que são capazes de efetuar a extração. No entanto, para fins didáticos, a alteração da string será feita com RegEx."
      ],
      "metadata": {
        "id": "G8lKzaADITBp"
      }
    },
    {
      "cell_type": "code",
      "source": [
        "aux_file = re.sub('\\<br[ ]\\/\\>','\\n',aux_file)\n",
        "aux_file = re.sub('\\<(\\/)?([a-zA-Z0-9]+\\=?\\\"?\\-?\\:?\\;?\\/?[ ]?)+(\\=?\\\"?\\-?\\:?\\;?\\/?[ ]?)*\\>','',aux_file)\n",
        "# regex do site explicado na seção VERBOSE\n",
        "aux_file = re.sub(r'(https?:(\\/\\/))?(www\\.)?(\\w+)\\.(\\w+)(\\.?\\/?)+([a-zA-Z0–9@:%&._\\+-?!~#=]*)?(\\.?\\/)?([a-zA-Z0–9@:%&._\\/+-~?!#=]*)?(\\.?\\/)?','',aux_file)\n",
        "aux_file = re.sub('\\<(\\/)?(([a-zA-Z0-9]+\\=?\\\"?\\-?\\:?\\;?\\/?[ ]?)+(\\=?\\\"?\\-?\\:?\\;?\\/?[ ]?)*)*\\>','',aux_file)\n",
        "aux_file = re.sub('(\\=?\\<?\\>?)*','',aux_file)\n",
        "aux_file = re.sub('([  ]{2,})',' ',aux_file)\n",
        "aux_file = re.sub('(\\n[ ]*\\n)','\\n',aux_file)\n",
        "aux_file = re.sub('(\\n \\n)','\\n',aux_file)\n",
        "aux_file = re.sub('^\\n','',aux_file)\n",
        "aux_file = re.sub('^ ','',aux_file)\n",
        "aux_file = re.sub('\\n$','',aux_file)"
      ],
      "metadata": {
        "id": "sfMNO70Zjn8a"
      },
      "execution_count": null,
      "outputs": []
    },
    {
      "cell_type": "code",
      "source": [
        "print(aux_file)"
      ],
      "metadata": {
        "colab": {
          "base_uri": "https://localhost:8080/"
        },
        "id": "0SnOZtzolA_3",
        "outputId": "df773bd8-a45e-4913-ba3e-acb59a66cbe9"
      },
      "execution_count": null,
      "outputs": [
        {
          "output_type": "stream",
          "name": "stdout",
          "text": [
            "--\n",
            "VAGAS: 20 (14 na FUVEST + 6 no SiSU/ENEM)\n",
            "DURAÇÃO: 4 anos (integral)\n",
            "COMO SE INSCREVER NA FUVEST: carreira 791 - curso 54\n",
            "SOBRE O CURSO\n",
            "O Bacharelado em Ciência de Dados visa formar um profissional capaz de \"pensar com dados\". Diante da enorme quantidade de dados disponíveis atualmente, provenientes das mais variadas fontes (como web, dispositivos móveis, literaturas especializadas e sensores de todo tipo - como satélites, radares e até telescópios), essa capacidade é essencial para a produção de conhecimento novo, útil e relevante para apoio à decisão e resolução de problemas complexos da sociedade.\n",
            "O QUE VOCÊ VAI ESTUDAR?\n",
            "O curso é multidisciplinar e se encontra na junção das áreas de Computação, Estatística e Matemática. Essa graduação visa fornecer conhecimento conceitual sólido para a ciência de dados e habilidades práticas para a resolução de problemas reais das mais variadas áreas, desenvolvendo também habilidades de comunicação e o comportamento cidadão e ético, tão relevantes atualmente.\n",
            "O aluno aprenderá algoritmos, linguagens de programação, estruturas de dados e organização e arquitetura usuais dos computadores modernos. Também será formado para lidar com bancos de dados, inteligência artificial e suas várias técnicas e aplicações (aprendizado de máquina, mineração de dados e textos e processamento de linguagem natural), visualização de dados e informação, conceitos matemáticos e estatísticos de base, modelagem estatística de problemas, análise estatística de dados e inferência e técnicas de otimização. Além disso, outras opções lhe serão apresentadas durante o curso, como as cadeias de disciplinas optativas nas mais diversas frentes, que incluem programação avançada, segurança de informação, web, matemática avançada, otimização, empreendedorismo, mineração de dados e aplicações.\n",
            "No último semestre do curso, o aluno deverá realizar trabalho de conclusão de curso, que pode ser em empresa (caracterizando estágio supervisionado) ou em universidade ou centro de pesquisa (caracterizando projeto de graduação), sendo que essas modalidades podem ocorrer também no exterior (em período de intercâmbio). Já para alunos que optarem por empreender, será possível realizar estágio em sua própria empresa.\n",
            "As estratégias de ensino e aprendizagem são variadas. Há aulas no estilo tradicional, com aulas teóricas e teórico-práticas, e também laboratórios práticos. Porém, boa parte do curso está focada no uso de metodologias ativas de ensino, em que o aluno assume maior protagonismo no processo, com estratégias baseadas na resolução de problemas (problem-based learning) e aulas invertidas (flipped classroom).\n",
            "O QUE VOCÊ VAI FAZER?\n",
            "Há diversas frentes possíveis de atuação. Na vertente acadêmica, o aluno poderá continuar sua formação na pós-graduação (em programas de mestrado e doutorado), que busca avançar a fronteira do conhecimento para os métodos e aplicações de Ciência de Dados. Nas empresas e institutos especializados, a demanda por cientistas de dados é enorme: o aluno poderá atuar em empresas de comércio eletrônico (por exemplo, buscando entender o comportamento de segmentos de mercado, personalizar suas propagandas e melhorar suas vendas), em bancos e financeiras (para analisar perfis de clientes e serviços mais apropriados para lhes oferecer, melhores estratégias de investimento e possíveis fraudadores do sistema), na área da saúde (pela coleta e análise de dados de doenças, sintomas e tratamentos possíveis, assim como acompanhamento e previsão do comportamento de epidemias), na área jurídica (pela análise automática de leis e jurisprudências para montar argumentações jurídicas para casos novos), em questões demográficas e de ações político-sociais (pelo levantamento e análise de dados populacionais e identificação de demandas e possíveis encaminhamentos e soluções) e até mesmo na astronomia (processando os dados espaciais obtidos para identificar planetas habitáveis e outros corpos celestes de interesse), entre incontáveis outras (como meteorologia, planejamento urbano e transporte público, questões ambientais e de energia, educação, etc.).\n"
          ]
        }
      ]
    },
    {
      "cell_type": "code",
      "source": [
        "file_ = open(\"final_html.txt\", \"x\")\n",
        "file_.write(aux_file)\n",
        "file_.close()"
      ],
      "metadata": {
        "id": "ev5q89JmidaR"
      },
      "execution_count": null,
      "outputs": []
    },
    {
      "cell_type": "markdown",
      "source": [
        "# Verbose"
      ],
      "metadata": {
        "id": "B2-iDrNJHfkZ"
      }
    },
    {
      "cell_type": "markdown",
      "source": [
        "É interessante usar VERBOSE para facilitar o entendimento de expressões regulares que possam ser mais longas. No caso, é recomendável compilar o padrão à parte antes de incluir dentro da função para substituição."
      ],
      "metadata": {
        "id": "qpn49L0zHiVe"
      }
    },
    {
      "cell_type": "code",
      "source": [
        "string = 'https://www.google.com/'\n",
        "print(string)\n",
        "\n",
        "pattern = re.compile(r\"\"\"\n",
        "(https?:(\\/\\/))? # verifica se o site inicia com http:// ou https://\n",
        "(www\\.)? # verifica se o site possui um trecho www.\n",
        "(\\w+)\\. # uma sequência de caracteres alfanuméricos com um ponto em seguida\n",
        "(\\w+)   # uma sequência de caracteres alfanuméricos\n",
        "(\\.?\\/?)+ # pelo menos uma vez ocorre um ponto . ou uma barra /\n",
        "([a-zA-Z0–9@:%&._\\+-?!~#=]*)? # nos colchetes: caracteres alfanuméricos ou os especiais especificados (@:%&._\\+-?!~#=) podem ocorrer 0 ou mais vezes;\n",
        "                              # nos parênteses: o que estava especificado dentro dos colchetes ocorre nenhuma ou uma vez\n",
        "(\\.?\\/)? # nenhuma vez ou uma vez ocorre um ponto . ou uma barra /\n",
        "([a-zA-Z0–9@:%&._\\/+-~?!#=]*)? # nos colchetes: caracteres alfanuméricos ou os especiais especificados (@:%&._\\+-?!~#=) podem ocorrer 0 ou mais vezes;\n",
        "                               # nos parênteses: o que estava especificado dentro dos colchetes ocorre nenhuma ou uma vez\n",
        "(\\.?\\/)? # nenhuma vez ou uma vez ocorre um ponto . ou uma barra / no término do site\n",
        "\"\"\", re.VERBOSE)\n",
        "\n",
        "string = re.sub(pattern,'site encontrado',string)\n",
        "\n",
        "print(string)"
      ],
      "metadata": {
        "id": "3fvw8ci-lWjW",
        "colab": {
          "base_uri": "https://localhost:8080/"
        },
        "outputId": "e826cd4e-50e2-43b3-d004-1ceb58a82d38"
      },
      "execution_count": null,
      "outputs": [
        {
          "output_type": "stream",
          "name": "stdout",
          "text": [
            "https://www.google.com/\n",
            "site encontrado\n"
          ]
        }
      ]
    }
  ]
}